{
 "cells": [
  {
   "cell_type": "code",
   "execution_count": 3,
   "id": "ce3d6778-cd1c-4632-a59c-4091791d14fd",
   "metadata": {},
   "outputs": [],
   "source": [
    "# 集客表のデータ取得\n",
    "# クランROASシートの基幹データ更新\n",
    "\n",
    "\n",
    "########################\n",
    "# \n",
    "# 設定（変動）\n",
    "# \n",
    "########################\n",
    "\n",
    "# 該当月\n",
    "applicable_month = 9\n",
    "\n",
    "# 02シートのタブ名\n",
    "name_02 = \"22年9月\"\n",
    "\n",
    "# 更新するシート名\n",
    "name_to = \"まとめデータ_22年9月\""
   ]
  },
  {
   "cell_type": "code",
   "execution_count": 4,
   "id": "0ee597d4-38a6-473f-a9de-a28cb7c9c881",
   "metadata": {},
   "outputs": [
    {
     "name": "stdout",
     "output_type": "stream",
     "text": [
      "モジュールのインポート完了\n"
     ]
    }
   ],
   "source": [
    "########################\n",
    "# \n",
    "# モジュール\n",
    "# \n",
    "########################\n",
    "\n",
    "# 一般モジュール\n",
    "import pandas as pd\n",
    "import re\n",
    "import pytz\n",
    "import sys\n",
    "import os\n",
    "import csv\n",
    "import time\n",
    "from datetime import datetime as dt\n",
    "from selenium.webdriver.common.by import By\n",
    "\n",
    "# スプシ関連\n",
    "from gspread_dataframe import set_with_dataframe\n",
    "\n",
    "# 自作モジュール\n",
    "import func\n",
    "import conf\n",
    "\n",
    "print(\"モジュールのインポート完了\")"
   ]
  },
  {
   "cell_type": "code",
   "execution_count": 5,
   "id": "63a975fe-11c2-4530-afe7-38fc09a31438",
   "metadata": {},
   "outputs": [],
   "source": [
    "########################\n",
    "# \n",
    "# 設定\n",
    "# \n",
    "########################\n",
    "\n",
    "# シートキー\n",
    "key_02 = \"1UvGMEFNqhRE-YfuYV1nwhKUb3YWCqRHRttwCGwXZO3g\"\n",
    "\n",
    "# 成果シートを更新するループの関数\n",
    "def update_sheet(key_list, name_to, df_origin):\n",
    "    for this_key in key_list:\n",
    "        asp_name = this_key[0]\n",
    "        key_to = this_key[1]\n",
    "\n",
    "        # ROAS管理シートにアクセス\n",
    "        wb_to = func.connect_gspread(key_to)\n",
    "        ws_to = wb_to.worksheet(name_to)\n",
    "\n",
    "        # まとめデータを貼り付け\n",
    "        set_with_dataframe(ws_to, df_origin)\n",
    "\n",
    "        # タイムスタンプ\n",
    "        cell = ws_to.range(1,1,1,1)\n",
    "        cell[0].value = str(dt.now(pytz.timezone('Asia/Tokyo')))\n",
    "        ws_to.update_cells(cell)\n",
    "\n",
    "        print(asp_name)"
   ]
  },
  {
   "cell_type": "code",
   "execution_count": 6,
   "id": "3bd7b286-795a-466b-bd50-23735c6c1131",
   "metadata": {},
   "outputs": [
    {
     "ename": "APIError",
     "evalue": "{'code': 403, 'message': 'The caller does not have permission', 'status': 'PERMISSION_DENIED'}",
     "output_type": "error",
     "traceback": [
      "\u001b[1;31m---------------------------------------------------------------------------\u001b[0m",
      "\u001b[1;31mAPIError\u001b[0m                                  Traceback (most recent call last)",
      "\u001b[1;32m~\\AppData\\Local\\Temp/ipykernel_13576/185675322.py\u001b[0m in \u001b[0;36m<module>\u001b[1;34m\u001b[0m\n\u001b[0;32m     23\u001b[0m \u001b[1;33m\u001b[0m\u001b[0m\n\u001b[0;32m     24\u001b[0m \u001b[1;31m# ループにする\u001b[0m\u001b[1;33m\u001b[0m\u001b[1;33m\u001b[0m\u001b[0m\n\u001b[1;32m---> 25\u001b[1;33m \u001b[0mupdate_sheet\u001b[0m\u001b[1;33m(\u001b[0m\u001b[0mkey_list\u001b[0m\u001b[1;33m,\u001b[0m \u001b[0mname_to\u001b[0m\u001b[1;33m,\u001b[0m \u001b[0mdf_origin\u001b[0m\u001b[1;33m)\u001b[0m\u001b[1;33m\u001b[0m\u001b[1;33m\u001b[0m\u001b[0m\n\u001b[0m\u001b[0;32m     26\u001b[0m \u001b[1;33m\u001b[0m\u001b[0m\n\u001b[0;32m     27\u001b[0m \u001b[0mprint\u001b[0m\u001b[1;33m(\u001b[0m\u001b[1;34m\"ROAS確認シート 完了\"\u001b[0m\u001b[1;33m)\u001b[0m\u001b[1;33m\u001b[0m\u001b[1;33m\u001b[0m\u001b[0m\n",
      "\u001b[1;32m~\\AppData\\Local\\Temp/ipykernel_13576/3703130735.py\u001b[0m in \u001b[0;36mupdate_sheet\u001b[1;34m(key_list, name_to, df_origin)\u001b[0m\n\u001b[0;32m     16\u001b[0m         \u001b[1;31m# ROAS管理シートにアクセス\u001b[0m\u001b[1;33m\u001b[0m\u001b[1;33m\u001b[0m\u001b[0m\n\u001b[0;32m     17\u001b[0m         \u001b[0mwb_to\u001b[0m \u001b[1;33m=\u001b[0m \u001b[0mfunc\u001b[0m\u001b[1;33m.\u001b[0m\u001b[0mconnect_gspread\u001b[0m\u001b[1;33m(\u001b[0m\u001b[0mkey_to\u001b[0m\u001b[1;33m)\u001b[0m\u001b[1;33m\u001b[0m\u001b[1;33m\u001b[0m\u001b[0m\n\u001b[1;32m---> 18\u001b[1;33m         \u001b[0mws_to\u001b[0m \u001b[1;33m=\u001b[0m \u001b[0mwb_to\u001b[0m\u001b[1;33m.\u001b[0m\u001b[0mworksheet\u001b[0m\u001b[1;33m(\u001b[0m\u001b[0mname_to\u001b[0m\u001b[1;33m)\u001b[0m\u001b[1;33m\u001b[0m\u001b[1;33m\u001b[0m\u001b[0m\n\u001b[0m\u001b[0;32m     19\u001b[0m \u001b[1;33m\u001b[0m\u001b[0m\n\u001b[0;32m     20\u001b[0m         \u001b[1;31m# まとめデータを貼り付け\u001b[0m\u001b[1;33m\u001b[0m\u001b[1;33m\u001b[0m\u001b[0m\n",
      "\u001b[1;32m~\\anaconda3\\lib\\site-packages\\gspread\\models.py\u001b[0m in \u001b[0;36mworksheet\u001b[1;34m(self, title)\u001b[0m\n\u001b[0;32m    372\u001b[0m         \u001b[1;33m>>\u001b[0m\u001b[1;33m>\u001b[0m \u001b[0mworksheet\u001b[0m \u001b[1;33m=\u001b[0m \u001b[0msht\u001b[0m\u001b[1;33m.\u001b[0m\u001b[0mworksheet\u001b[0m\u001b[1;33m(\u001b[0m\u001b[1;34m'Annual bonuses'\u001b[0m\u001b[1;33m)\u001b[0m\u001b[1;33m\u001b[0m\u001b[1;33m\u001b[0m\u001b[0m\n\u001b[0;32m    373\u001b[0m         \"\"\"\n\u001b[1;32m--> 374\u001b[1;33m         \u001b[0msheet_data\u001b[0m \u001b[1;33m=\u001b[0m \u001b[0mself\u001b[0m\u001b[1;33m.\u001b[0m\u001b[0mfetch_sheet_metadata\u001b[0m\u001b[1;33m(\u001b[0m\u001b[1;33m)\u001b[0m\u001b[1;33m\u001b[0m\u001b[1;33m\u001b[0m\u001b[0m\n\u001b[0m\u001b[0;32m    375\u001b[0m         \u001b[1;32mtry\u001b[0m\u001b[1;33m:\u001b[0m\u001b[1;33m\u001b[0m\u001b[1;33m\u001b[0m\u001b[0m\n\u001b[0;32m    376\u001b[0m             item = finditem(\n",
      "\u001b[1;32m~\\anaconda3\\lib\\site-packages\\gspread\\models.py\u001b[0m in \u001b[0;36mfetch_sheet_metadata\u001b[1;34m(self, params)\u001b[0m\n\u001b[0;32m    293\u001b[0m         \u001b[0murl\u001b[0m \u001b[1;33m=\u001b[0m \u001b[0mSPREADSHEET_URL\u001b[0m \u001b[1;33m%\u001b[0m \u001b[0mself\u001b[0m\u001b[1;33m.\u001b[0m\u001b[0mid\u001b[0m\u001b[1;33m\u001b[0m\u001b[1;33m\u001b[0m\u001b[0m\n\u001b[0;32m    294\u001b[0m \u001b[1;33m\u001b[0m\u001b[0m\n\u001b[1;32m--> 295\u001b[1;33m         \u001b[0mr\u001b[0m \u001b[1;33m=\u001b[0m \u001b[0mself\u001b[0m\u001b[1;33m.\u001b[0m\u001b[0mclient\u001b[0m\u001b[1;33m.\u001b[0m\u001b[0mrequest\u001b[0m\u001b[1;33m(\u001b[0m\u001b[1;34m'get'\u001b[0m\u001b[1;33m,\u001b[0m \u001b[0murl\u001b[0m\u001b[1;33m,\u001b[0m \u001b[0mparams\u001b[0m\u001b[1;33m=\u001b[0m\u001b[0mparams\u001b[0m\u001b[1;33m)\u001b[0m\u001b[1;33m\u001b[0m\u001b[1;33m\u001b[0m\u001b[0m\n\u001b[0m\u001b[0;32m    296\u001b[0m \u001b[1;33m\u001b[0m\u001b[0m\n\u001b[0;32m    297\u001b[0m         \u001b[1;32mreturn\u001b[0m \u001b[0mr\u001b[0m\u001b[1;33m.\u001b[0m\u001b[0mjson\u001b[0m\u001b[1;33m(\u001b[0m\u001b[1;33m)\u001b[0m\u001b[1;33m\u001b[0m\u001b[1;33m\u001b[0m\u001b[0m\n",
      "\u001b[1;32m~\\anaconda3\\lib\\site-packages\\gspread\\client.py\u001b[0m in \u001b[0;36mrequest\u001b[1;34m(self, method, endpoint, params, data, json, files, headers)\u001b[0m\n\u001b[0;32m     74\u001b[0m             \u001b[1;32mreturn\u001b[0m \u001b[0mresponse\u001b[0m\u001b[1;33m\u001b[0m\u001b[1;33m\u001b[0m\u001b[0m\n\u001b[0;32m     75\u001b[0m         \u001b[1;32melse\u001b[0m\u001b[1;33m:\u001b[0m\u001b[1;33m\u001b[0m\u001b[1;33m\u001b[0m\u001b[0m\n\u001b[1;32m---> 76\u001b[1;33m             \u001b[1;32mraise\u001b[0m \u001b[0mAPIError\u001b[0m\u001b[1;33m(\u001b[0m\u001b[0mresponse\u001b[0m\u001b[1;33m)\u001b[0m\u001b[1;33m\u001b[0m\u001b[1;33m\u001b[0m\u001b[0m\n\u001b[0m\u001b[0;32m     77\u001b[0m \u001b[1;33m\u001b[0m\u001b[0m\n\u001b[0;32m     78\u001b[0m     \u001b[1;32mdef\u001b[0m \u001b[0mlist_spreadsheet_files\u001b[0m\u001b[1;33m(\u001b[0m\u001b[0mself\u001b[0m\u001b[1;33m,\u001b[0m \u001b[0mtitle\u001b[0m\u001b[1;33m=\u001b[0m\u001b[1;32mNone\u001b[0m\u001b[1;33m)\u001b[0m\u001b[1;33m:\u001b[0m\u001b[1;33m\u001b[0m\u001b[1;33m\u001b[0m\u001b[0m\n",
      "\u001b[1;31mAPIError\u001b[0m: {'code': 403, 'message': 'The caller does not have permission', 'status': 'PERMISSION_DENIED'}"
     ]
    }
   ],
   "source": [
    "########################\n",
    "# \n",
    "# ROAS管理シートの集客表タブ更新\n",
    "# \n",
    "########################\n",
    "\n",
    "key_list = [\n",
    "    [\"ナハト(クラン) ROAS\", \"1RxeKMDWZlxoalKCG7Ssin7q9haf4O9NmeFsQlmkgemw\"]\n",
    "]\n",
    "\n",
    "# シート名\n",
    "name_to = \"集客表_当月\"\n",
    "\n",
    "\n",
    "# 集客表元データのシートにアクセス\n",
    "wb_origin = func.connect_gspread(key_02)\n",
    "ws_origin = wb_origin.worksheet(name_02)\n",
    "\n",
    "# 元データ取得\n",
    "df_origin = pd.DataFrame(ws_origin.get_all_values()) # 元データ取得\n",
    "df_origin = df_origin[df_origin[4] != \"\"]   # ID空白除去\n",
    "\n",
    "\n",
    "# ループにする\n",
    "update_sheet(key_list, name_to, df_origin)\n",
    "\n",
    "print(\"ROAS確認シート 完了\")"
   ]
  },
  {
   "cell_type": "code",
   "execution_count": null,
   "id": "8e503725-1d27-47a9-8e5c-f7d4043578af",
   "metadata": {},
   "outputs": [],
   "source": []
  }
 ],
 "metadata": {
  "kernelspec": {
   "display_name": "Python 3 (ipykernel)",
   "language": "python",
   "name": "python3"
  },
  "language_info": {
   "codemirror_mode": {
    "name": "ipython",
    "version": 3
   },
   "file_extension": ".py",
   "mimetype": "text/x-python",
   "name": "python",
   "nbconvert_exporter": "python",
   "pygments_lexer": "ipython3",
   "version": "3.9.7"
  }
 },
 "nbformat": 4,
 "nbformat_minor": 5
}
